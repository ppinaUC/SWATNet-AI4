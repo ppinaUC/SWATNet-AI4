{
 "cells": [
  {
   "cell_type": "markdown",
   "id": "10fc5525",
   "metadata": {},
   "source": [
    "# Automated sunspots detection based on morphological operators\n",
    "The following is a sequence based on morphological operators to segment sunspots on H-alpha images from the spectroheliograph of Coimbra Observatory"
   ]
  },
  {
   "cell_type": "code",
   "execution_count": null,
   "id": "adae3edb",
   "metadata": {},
   "outputs": [],
   "source": [
    "import diplib as dip\n",
    "import matplotlib as plt\n",
    "plt.rcParams[\"figure.figsize\"] = (12,10)"
   ]
  },
  {
   "cell_type": "markdown",
   "id": "a303cefd",
   "metadata": {},
   "source": [
    "### 1. Reading and displaying the image "
   ]
  },
  {
   "cell_type": "code",
   "execution_count": null,
   "id": "66866807",
   "metadata": {},
   "outputs": [],
   "source": [
    "img = dip.ImageReadTIFF('14102303CN')\n",
    "img.Show()"
   ]
  },
  {
   "cell_type": "markdown",
   "id": "f75305a7",
   "metadata": {},
   "source": [
    "### 2. Creating the sun mask\n",
    "Pre-processing task to filter the white text at the top and bottom of the image"
   ]
  },
  {
   "cell_type": "code",
   "execution_count": null,
   "id": "30db1213",
   "metadata": {},
   "outputs": [],
   "source": [
    "ope = dip.Opening(img,20)\n",
    "ope.Show()"
   ]
  },
  {
   "cell_type": "markdown",
   "id": "11544e28",
   "metadata": {},
   "source": [
    "Thresholding of the image to obtain a binary mask of the sun (correspond to all non-zero pixels)"
   ]
  },
  {
   "cell_type": "code",
   "execution_count": null,
   "id": "23b38edb",
   "metadata": {},
   "outputs": [],
   "source": [
    "bin = dip.FixedThreshold(ope,1)\n",
    "bin.Show()"
   ]
  },
  {
   "cell_type": "markdown",
   "id": "a4bca511",
   "metadata": {},
   "source": [
    "Contour of the mask, obtained by morphological gradient, which is superimposed to the input image "
   ]
  },
  {
   "cell_type": "code",
   "execution_count": null,
   "id": "93b51205",
   "metadata": {},
   "outputs": [],
   "source": [
    "contSun = dip.MorphologicalGradientMagnitude(bin)\n",
    "img_ovr_sun = dip.Overlay(img,contSun)\n",
    "img_ovr_sun.Show()"
   ]
  },
  {
   "cell_type": "markdown",
   "id": "14cf6369",
   "metadata": {},
   "source": [
    "### 3. Spots Segmentation (umbra + penumbra)\n",
    "Computation of the black tophat "
   ]
  },
  {
   "cell_type": "code",
   "execution_count": null,
   "id": "50922dbf",
   "metadata": {},
   "outputs": [],
   "source": [
    "BTH = dip.Closing(ope,40) - ope\n",
    "BTH.Show()"
   ]
  },
  {
   "cell_type": "markdown",
   "id": "ba39cf56",
   "metadata": {},
   "source": [
    "Binarization of the sun spots"
   ]
  },
  {
   "cell_type": "code",
   "execution_count": null,
   "id": "7f23a8f9",
   "metadata": {},
   "outputs": [],
   "source": [
    "binBTH = dip.FixedThreshold(BTH,27)\n",
    "binBTH.Show()"
   ]
  },
  {
   "cell_type": "markdown",
   "id": "67b7547f",
   "metadata": {},
   "source": [
    "Filtering by opening-reconstruction, to remove very small objects (that are unlike to be sunspots)"
   ]
  },
  {
   "cell_type": "code",
   "execution_count": null,
   "id": "69dc0349",
   "metadata": {},
   "outputs": [],
   "source": [
    "fbintBTH = dip.OpeningByReconstruction(binBTH,1)\n",
    "fbintBTH.Show()"
   ]
  },
  {
   "cell_type": "markdown",
   "id": "dea2e549",
   "metadata": {},
   "source": [
    "Determination of the contours of the sunspots with a half-gradient or morphological external gradient, suporposed to the input image"
   ]
  },
  {
   "cell_type": "code",
   "execution_count": null,
   "id": "89eeb44c",
   "metadata": {},
   "outputs": [],
   "source": [
    "contUP = dip.Dilation(fbintBTH) - fbintBTH\n",
    "contUP.Show()"
   ]
  },
  {
   "cell_type": "code",
   "execution_count": null,
   "id": "010c5ade",
   "metadata": {},
   "outputs": [],
   "source": [
    "img_ovr_UP = dip.Overlay(img,contUP)\n",
    "img_ovr_UP.Show()"
   ]
  },
  {
   "cell_type": "markdown",
   "id": "84e95e22",
   "metadata": {},
   "source": [
    "Save the ouput result in a standard image format"
   ]
  },
  {
   "cell_type": "code",
   "execution_count": null,
   "id": "1dedaca7",
   "metadata": {},
   "outputs": [],
   "source": [
    "dip.ImageWriteJPEG(img_ovr_UP,'14102303CN_spots.jpg')"
   ]
  }
 ],
 "metadata": {
  "kernelspec": {
   "display_name": "Python 3 (ipykernel)",
   "language": "python",
   "name": "python3"
  },
  "language_info": {
   "codemirror_mode": {
    "name": "ipython",
    "version": 3
   },
   "file_extension": ".py",
   "mimetype": "text/x-python",
   "name": "python",
   "nbconvert_exporter": "python",
   "pygments_lexer": "ipython3",
   "version": "3.8.8"
  }
 },
 "nbformat": 4,
 "nbformat_minor": 5
}
