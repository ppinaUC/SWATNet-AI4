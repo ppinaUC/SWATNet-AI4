{
 "cells": [
  {
   "cell_type": "raw",
   "id": "846677e7",
   "metadata": {},
   "source": []
  },
  {
   "cell_type": "markdown",
   "id": "10fc5525",
   "metadata": {},
   "source": [
    "# Automated sunspots detection based on morphological operators\n",
    "This notebook consists of an algorithm based on morphological operators to segment sunspots on H-Alpha images obtained by the spectroheliograph of Coimbra Observatory (OGAUC) and the Solar Dynamics Observatory mission (SDO).\n",
    "\n",
    "The set available to test the algorithm consists of two pairs of images of these sensors from the same day. For that, use each of the following names as 'img_in':\n",
    "\n",
    "2014oct23_OGAUC and 2014nov29_OGAUC; 2014oct23_SDO and 2014nov29_SDO\n",
    "\n",
    "Some of the parameters of the algorithm may need to be tuned in each image for obtaining a better result.\n"
   ]
  },
  {
   "cell_type": "markdown",
   "id": "27666ce1",
   "metadata": {},
   "source": [
    "## 0. Configuration \n",
    "Importing the necessary modules and defining the size of the window to display the images."
   ]
  },
  {
   "cell_type": "code",
   "execution_count": 1,
   "id": "adae3edb",
   "metadata": {},
   "outputs": [
    {
     "name": "stdout",
     "output_type": "stream",
     "text": [
      "PyDIPjavaio unavailable:\n",
      "DLL load failed while importing PyDIPjavaio: The specified module could not be found.\n",
      "\n",
      "libjvm not found\n",
      "DIPlib -- a quantitative image analysis library\n",
      "Version 3.1.0 (Sep 24 2021)\n",
      "For more information see https://diplib.org\n"
     ]
    }
   ],
   "source": [
    "import diplib as dip\n",
    "import matplotlib as plt\n",
    "plt.rcParams[\"figure.figsize\"] = (12,10)"
   ]
  },
  {
   "cell_type": "markdown",
   "id": "a303cefd",
   "metadata": {},
   "source": [
    "## 1. Reading and displaying the input image \n",
    "To test the algorithm with one of the 4 images mentioned above, just insert the name of the file in 'img_in': "
   ]
  },
  {
   "cell_type": "code",
   "execution_count": 2,
   "id": "66866807",
   "metadata": {},
   "outputs": [
    {
     "ename": "RuntimeError",
     "evalue": "Could not open the specified TIFF file\nin function: TiffFile (D:\\a\\diplib\\diplib\\src\\file_io\\tiff_read.cpp at line number 59)",
     "output_type": "error",
     "traceback": [
      "\u001b[1;31m---------------------------------------------------------------------------\u001b[0m",
      "\u001b[1;31mRuntimeError\u001b[0m                              Traceback (most recent call last)",
      "\u001b[1;32mC:\\Users\\PEDROP~1\\AppData\\Local\\Temp/ipykernel_7016/3124472863.py\u001b[0m in \u001b[0;36m<module>\u001b[1;34m\u001b[0m\n\u001b[0;32m      1\u001b[0m \u001b[0mimg_in\u001b[0m \u001b[1;33m=\u001b[0m \u001b[1;34m'2014oct23_OGAUC'\u001b[0m\u001b[1;33m\u001b[0m\u001b[1;33m\u001b[0m\u001b[0m\n\u001b[1;32m----> 2\u001b[1;33m \u001b[0mimg\u001b[0m \u001b[1;33m=\u001b[0m \u001b[0mdip\u001b[0m\u001b[1;33m.\u001b[0m\u001b[0mImageReadTIFF\u001b[0m\u001b[1;33m(\u001b[0m\u001b[0mimg_in\u001b[0m\u001b[1;33m)\u001b[0m\u001b[1;33m\u001b[0m\u001b[1;33m\u001b[0m\u001b[0m\n\u001b[0m\u001b[0;32m      3\u001b[0m \u001b[0mimg\u001b[0m\u001b[1;33m.\u001b[0m\u001b[0mShow\u001b[0m\u001b[1;33m(\u001b[0m\u001b[1;33m)\u001b[0m\u001b[1;33m\u001b[0m\u001b[1;33m\u001b[0m\u001b[0m\n",
      "\u001b[1;31mRuntimeError\u001b[0m: Could not open the specified TIFF file\nin function: TiffFile (D:\\a\\diplib\\diplib\\src\\file_io\\tiff_read.cpp at line number 59)"
     ]
    }
   ],
   "source": [
    "img_in = '2014oct23_OGAUC'\n",
    "img = dip.ImageReadTIFF(img_in)\n",
    "img.Show()"
   ]
  },
  {
   "cell_type": "markdown",
   "id": "f75305a7",
   "metadata": {},
   "source": [
    "## 2. Creating the sun mask\n",
    "Pre-processing to filter the white text at the top and bottom of the image using an opening with a structuring element disk of size 'se1':"
   ]
  },
  {
   "cell_type": "code",
   "execution_count": null,
   "id": "30db1213",
   "metadata": {},
   "outputs": [],
   "source": [
    "se1 = 20\n",
    "ope = dip.Opening(img,se1)\n",
    "ope.Show()"
   ]
  },
  {
   "cell_type": "markdown",
   "id": "11544e28",
   "metadata": {},
   "source": [
    "Thresholding of the opened image to obtain a binary mask of the sun (correspond to all non-zero pixels of the image):"
   ]
  },
  {
   "cell_type": "code",
   "execution_count": null,
   "id": "23b38edb",
   "metadata": {},
   "outputs": [],
   "source": [
    "bin = dip.FixedThreshold(ope,1)\n",
    "bin.Show()"
   ]
  },
  {
   "cell_type": "markdown",
   "id": "9205eb6e",
   "metadata": {},
   "source": [
    "Filling the holes (spots that might have the same intensity of the background) with an operator based on geodesic dilation:"
   ]
  },
  {
   "cell_type": "code",
   "execution_count": null,
   "id": "2a7b9017",
   "metadata": {},
   "outputs": [],
   "source": [
    "binFH = dip.FillHoles(bin)"
   ]
  },
  {
   "cell_type": "markdown",
   "id": "a4bca511",
   "metadata": {},
   "source": [
    "Contour of the mask, obtained through the morphological gradient, superimposed to the input image:"
   ]
  },
  {
   "cell_type": "code",
   "execution_count": null,
   "id": "93b51205",
   "metadata": {},
   "outputs": [],
   "source": [
    "contSun = dip.MorphologicalGradientMagnitude(binFH)\n",
    "img_ovr_sun = dip.Overlay(img,contSun)\n",
    "img_ovr_sun.Show()"
   ]
  },
  {
   "cell_type": "markdown",
   "id": "14cf6369",
   "metadata": {},
   "source": [
    "## 3. Spots Segmentation (umbra + penumbra)\n",
    "Detection of the sunspots with the black tophat transform, obatined with a closing operator with a disk of size 'se2' as structuring element: "
   ]
  },
  {
   "cell_type": "code",
   "execution_count": null,
   "id": "50922dbf",
   "metadata": {},
   "outputs": [],
   "source": [
    "se2 = 50\n",
    "BTH = dip.Closing(ope,se2) - ope\n",
    "BTH.Show()"
   ]
  },
  {
   "cell_type": "markdown",
   "id": "ba39cf56",
   "metadata": {},
   "source": [
    "The binarization of the sunspots is obtained through a thresholding of the black top hat:"
   ]
  },
  {
   "cell_type": "code",
   "execution_count": null,
   "id": "7f23a8f9",
   "metadata": {},
   "outputs": [],
   "source": [
    "BTHbin = dip.FixedThreshold(BTH,27)\n",
    "BTHbin.Show()"
   ]
  },
  {
   "cell_type": "markdown",
   "id": "67b7547f",
   "metadata": {},
   "source": [
    "The filtering by opening-reconstruction removes very small objects that are unlike to be sunspots:"
   ]
  },
  {
   "cell_type": "code",
   "execution_count": null,
   "id": "69dc0349",
   "metadata": {},
   "outputs": [],
   "source": [
    "se3 = 1\n",
    "fBTHbin = dip.OpeningByReconstruction(BTHbin,se3)\n",
    "fBTHbin.Show()"
   ]
  },
  {
   "cell_type": "markdown",
   "id": "dea2e549",
   "metadata": {},
   "source": [
    "Determination of the contours of the sunspots with a half-gradient (or morphological external gradient), superimposed to the input image:"
   ]
  },
  {
   "cell_type": "code",
   "execution_count": null,
   "id": "010c5ade",
   "metadata": {},
   "outputs": [],
   "source": [
    "contSPOTS = dip.Dilation(fBTHbin) - fBTHbin\n",
    "img_ovr_SPOTS = dip.Overlay(img,contSPOTS)\n",
    "img_ovr_SPOTS.Show()"
   ]
  },
  {
   "cell_type": "markdown",
   "id": "84e95e22",
   "metadata": {},
   "source": [
    "Save the ouput result in a standard TIFF format:"
   ]
  },
  {
   "cell_type": "code",
   "execution_count": null,
   "id": "1dedaca7",
   "metadata": {},
   "outputs": [],
   "source": [
    "img_out = img_in + '_spots.tif'\n",
    "dip.ImageWriteTIFF(img_ovr_SPOTS,img_out)"
   ]
  }
 ],
 "metadata": {
  "kernelspec": {
   "display_name": "Python 3 (ipykernel)",
   "language": "python",
   "name": "python3"
  },
  "language_info": {
   "codemirror_mode": {
    "name": "ipython",
    "version": 3
   },
   "file_extension": ".py",
   "mimetype": "text/x-python",
   "name": "python",
   "nbconvert_exporter": "python",
   "pygments_lexer": "ipython3",
   "version": "3.8.8"
  }
 },
 "nbformat": 4,
 "nbformat_minor": 5
}
