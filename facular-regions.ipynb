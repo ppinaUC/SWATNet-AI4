{
 "cells": [
  {
   "cell_type": "markdown",
   "id": "10fc5525",
   "metadata": {},
   "source": [
    "# Automated facular regions detection based on morphological operators\n",
    "This notebook consists of an algorithm based on morphological operators to segment facular regions on CaII K3 images obtained by the spectroheliograph of Coimbra Observatory (OGAUC) .... (and the Solar Dynamics Observatory mission (SDO).)\n",
    "\n",
    "The set available to test the algorithm consists of (two pairs of images of these sensors from the same day). For that, use each of the following names as 'img_in':\n",
    "\n",
    "2011apr01_K3_OGAUC...\n",
    "\n",
    "Some of the parameters of the algorithm may need to be tuned in each image for obtaining a better result.\n"
   ]
  },
  {
   "cell_type": "markdown",
   "id": "71730bba",
   "metadata": {},
   "source": [
    "## 0. Preparation \n",
    "Importing the necessary modules and defining the size of the window to display the images."
   ]
  },
  {
   "cell_type": "code",
   "execution_count": null,
   "id": "adae3edb",
   "metadata": {},
   "outputs": [],
   "source": [
    "import diplib as dip\n",
    "import matplotlib as plt\n",
    "plt.rcParams[\"figure.figsize\"] = (12,10)"
   ]
  },
  {
   "cell_type": "markdown",
   "id": "a303cefd",
   "metadata": {},
   "source": [
    "## 1. Reading and displaying the input image \n",
    "To test the algorithm with one of the 4 images mentioned above, just insert the name of the file in 'img_in': "
   ]
  },
  {
   "cell_type": "code",
   "execution_count": null,
   "id": "66866807",
   "metadata": {},
   "outputs": [],
   "source": [
    "img_in = '2011apr01_K3_OGAUC'\n",
    "img = dip.ImageReadTIFF(img_in)\n",
    "img.Show()"
   ]
  },
  {
   "cell_type": "markdown",
   "id": "f75305a7",
   "metadata": {},
   "source": [
    "## 2. Creating the sun mask\n",
    "Pre-processing to filter the white text at the top and bottom of the image using an opening with a structuring element disk of size 'se1':"
   ]
  },
  {
   "cell_type": "code",
   "execution_count": null,
   "id": "30db1213",
   "metadata": {},
   "outputs": [],
   "source": [
    "se1 = 5\n",
    "ope = dip.Opening(img,se1)\n",
    "ope.Show()"
   ]
  },
  {
   "cell_type": "markdown",
   "id": "11544e28",
   "metadata": {},
   "source": [
    "Thresholding of the opened image to obtain a binary mask of the sun (note the higher value of the threshold since not all background pixels have a zero value):"
   ]
  },
  {
   "cell_type": "code",
   "execution_count": null,
   "id": "23b38edb",
   "metadata": {},
   "outputs": [],
   "source": [
    "bin = dip.FixedThreshold(ope,30)\n",
    "bin.Show()"
   ]
  },
  {
   "cell_type": "markdown",
   "id": "3bdd73a5",
   "metadata": {},
   "source": [
    "Filling the holes (spots that might have the same intensity of the background) with an operator based on geodesic dilation:"
   ]
  },
  {
   "cell_type": "markdown",
   "id": "a4bca511",
   "metadata": {},
   "source": [
    "Contour of the mask, obtained through the morphological gradient, superimposed to the input image:"
   ]
  },
  {
   "cell_type": "code",
   "execution_count": null,
   "id": "93b51205",
   "metadata": {},
   "outputs": [],
   "source": [
    "contSun = dip.MorphologicalGradientMagnitude(bin)\n",
    "img_ovr_sun = dip.Overlay(img,contSun)\n",
    "img_ovr_sun.Show()"
   ]
  },
  {
   "cell_type": "markdown",
   "id": "14cf6369",
   "metadata": {},
   "source": [
    "## 3. Facular Regions Segmentation\n",
    "Ientification of the facular regions with the white tophat transform, obatined with a opening operator with a disk of size 'se2' as structuring element: "
   ]
  },
  {
   "cell_type": "code",
   "execution_count": null,
   "id": "50922dbf",
   "metadata": {},
   "outputs": [],
   "source": [
    "se2 = 50\n",
    "WTH = dip.Tophat(ope,se2)\n",
    "WTH.Show()"
   ]
  },
  {
   "cell_type": "markdown",
   "id": "ba39cf56",
   "metadata": {},
   "source": [
    "The binarization of the sunspots is obtained through a thresholding of the black top hat:"
   ]
  },
  {
   "cell_type": "code",
   "execution_count": null,
   "id": "7f23a8f9",
   "metadata": {},
   "outputs": [],
   "source": [
    "WTHbin = dip.FixedThreshold(WTH,30)\n",
    "WTHbin.Show()"
   ]
  },
  {
   "cell_type": "markdown",
   "id": "c7cf0ea2",
   "metadata": {},
   "source": [
    "Filling the internal regions of the facular regions not binarized by the previous thresholding operation using a morphological transform:"
   ]
  },
  {
   "cell_type": "code",
   "execution_count": null,
   "id": "4bba5b3d",
   "metadata": {},
   "outputs": [],
   "source": [
    "WTHbinFH = dip.FillHoles(WTHbin)\n",
    "WTHbinFH.Show()"
   ]
  },
  {
   "cell_type": "markdown",
   "id": "67b7547f",
   "metadata": {},
   "source": [
    "Filtering by opening-reconstruction to remove small objects:"
   ]
  },
  {
   "cell_type": "code",
   "execution_count": null,
   "id": "69dc0349",
   "metadata": {},
   "outputs": [],
   "source": [
    "se3 = 3\n",
    "fWTHbinFH = dip.OpeningByReconstruction(WTHbinFH,se3)\n",
    "fWTHbinFH.Show()"
   ]
  },
  {
   "cell_type": "markdown",
   "id": "dea2e549",
   "metadata": {},
   "source": [
    "Determination of the contours of the sunspots with a half-gradient (or morphological external gradient), superimposed to the input image:"
   ]
  },
  {
   "cell_type": "code",
   "execution_count": null,
   "id": "010c5ade",
   "metadata": {},
   "outputs": [],
   "source": [
    "contFacReg = dip.Dilation(fWTHbinFH) - fWTHbinFH\n",
    "img_ovr_FacReg = dip.Overlay(img,contFacReg)\n",
    "img_ovr_FacReg.Show()"
   ]
  },
  {
   "cell_type": "markdown",
   "id": "84e95e22",
   "metadata": {},
   "source": [
    "Save the ouput result in a standard TIFF format:"
   ]
  },
  {
   "cell_type": "code",
   "execution_count": null,
   "id": "1dedaca7",
   "metadata": {},
   "outputs": [],
   "source": [
    "img_out = img_in + '_spots.tif'\n",
    "dip.ImageWriteTIFF(img_ovr_FacReg,img_out)"
   ]
  }
 ],
 "metadata": {
  "kernelspec": {
   "display_name": "Python 3 (ipykernel)",
   "language": "python",
   "name": "python3"
  },
  "language_info": {
   "codemirror_mode": {
    "name": "ipython",
    "version": 3
   },
   "file_extension": ".py",
   "mimetype": "text/x-python",
   "name": "python",
   "nbconvert_exporter": "python",
   "pygments_lexer": "ipython3",
   "version": "3.8.8"
  }
 },
 "nbformat": 4,
 "nbformat_minor": 5
}
